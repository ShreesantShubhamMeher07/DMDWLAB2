{
 "cells": [
  {
   "cell_type": "code",
   "execution_count": 5,
   "metadata": {},
   "outputs": [],
   "source": [
    "\n",
    "import pandas as pd\n",
    "data =pd.read_csv('Toyota.csv')\n"
   ]
  },
  {
   "cell_type": "code",
   "execution_count": 6,
   "metadata": {},
   "outputs": [
    {
     "data": {
      "text/plain": [
       "pandas.core.frame.DataFrame"
      ]
     },
     "execution_count": 6,
     "metadata": {},
     "output_type": "execute_result"
    }
   ],
   "source": [
    " type(data)"
   ]
  },
  {
   "cell_type": "code",
   "execution_count": 7,
   "metadata": {},
   "outputs": [
    {
     "data": {
      "text/plain": [
       "(1436, 1)"
      ]
     },
     "execution_count": 7,
     "metadata": {},
     "output_type": "execute_result"
    }
   ],
   "source": [
    "data.shape"
   ]
  },
  {
   "cell_type": "code",
   "execution_count": 8,
   "metadata": {},
   "outputs": [
    {
     "name": "stdout",
     "output_type": "stream",
     "text": [
      "<class 'pandas.core.frame.DataFrame'>\n",
      "RangeIndex: 1436 entries, 0 to 1435\n",
      "Data columns (total 1 columns):\n",
      " #   Column                                                        Non-Null Count  Dtype \n",
      "---  ------                                                        --------------  ----- \n",
      " 0   ,Price,Age,KM,FuelType,HP,MetColor,Automatic,CC,Doors,Weight  1436 non-null   object\n",
      "dtypes: object(1)\n",
      "memory usage: 11.3+ KB\n"
     ]
    }
   ],
   "source": [
    "data.info()"
   ]
  },
  {
   "cell_type": "code",
   "execution_count": 9,
   "metadata": {},
   "outputs": [
    {
     "data": {
      "text/plain": [
       "RangeIndex(start=0, stop=1436, step=1)"
      ]
     },
     "execution_count": 9,
     "metadata": {},
     "output_type": "execute_result"
    }
   ],
   "source": [
    " data.index"
   ]
  },
  {
   "cell_type": "code",
   "execution_count": 10,
   "metadata": {},
   "outputs": [
    {
     "data": {
      "text/plain": [
       "Index([',Price,Age,KM,FuelType,HP,MetColor,Automatic,CC,Doors,Weight'], dtype='object')"
      ]
     },
     "execution_count": 10,
     "metadata": {},
     "output_type": "execute_result"
    }
   ],
   "source": [
    "data.columns"
   ]
  },
  {
   "cell_type": "code",
   "execution_count": 11,
   "metadata": {},
   "outputs": [
    {
     "data": {
      "text/html": [
       "<div>\n",
       "<style scoped>\n",
       "    .dataframe tbody tr th:only-of-type {\n",
       "        vertical-align: middle;\n",
       "    }\n",
       "\n",
       "    .dataframe tbody tr th {\n",
       "        vertical-align: top;\n",
       "    }\n",
       "\n",
       "    .dataframe thead th {\n",
       "        text-align: right;\n",
       "    }\n",
       "</style>\n",
       "<table border=\"1\" class=\"dataframe\">\n",
       "  <thead>\n",
       "    <tr style=\"text-align: right;\">\n",
       "      <th></th>\n",
       "      <th>,Price,Age,KM,FuelType,HP,MetColor,Automatic,CC,Doors,Weight</th>\n",
       "    </tr>\n",
       "  </thead>\n",
       "  <tbody>\n",
       "    <tr>\n",
       "      <th>0</th>\n",
       "      <td>0,13500,23,46986,Diesel,90,1,0,2000,three,1165</td>\n",
       "    </tr>\n",
       "    <tr>\n",
       "      <th>1</th>\n",
       "      <td>1,13750,23,72937,Diesel,90,1,0,2000,3,1165</td>\n",
       "    </tr>\n",
       "    <tr>\n",
       "      <th>2</th>\n",
       "      <td>2,13950,24,41711,Diesel,90,,0,2000,3,1165</td>\n",
       "    </tr>\n",
       "    <tr>\n",
       "      <th>3</th>\n",
       "      <td>3,14950,26,48000,Diesel,90,0,0,2000,3,1165</td>\n",
       "    </tr>\n",
       "    <tr>\n",
       "      <th>4</th>\n",
       "      <td>4,13750,30,38500,Diesel,90,0,0,2000,3,1170</td>\n",
       "    </tr>\n",
       "  </tbody>\n",
       "</table>\n",
       "</div>"
      ],
      "text/plain": [
       "  ,Price,Age,KM,FuelType,HP,MetColor,Automatic,CC,Doors,Weight\n",
       "0     0,13500,23,46986,Diesel,90,1,0,2000,three,1165          \n",
       "1         1,13750,23,72937,Diesel,90,1,0,2000,3,1165          \n",
       "2          2,13950,24,41711,Diesel,90,,0,2000,3,1165          \n",
       "3         3,14950,26,48000,Diesel,90,0,0,2000,3,1165          \n",
       "4         4,13750,30,38500,Diesel,90,0,0,2000,3,1170          "
      ]
     },
     "execution_count": 11,
     "metadata": {},
     "output_type": "execute_result"
    }
   ],
   "source": [
    "data.head()"
   ]
  },
  {
   "cell_type": "code",
   "execution_count": 12,
   "metadata": {},
   "outputs": [
    {
     "data": {
      "text/html": [
       "<div>\n",
       "<style scoped>\n",
       "    .dataframe tbody tr th:only-of-type {\n",
       "        vertical-align: middle;\n",
       "    }\n",
       "\n",
       "    .dataframe tbody tr th {\n",
       "        vertical-align: top;\n",
       "    }\n",
       "\n",
       "    .dataframe thead th {\n",
       "        text-align: right;\n",
       "    }\n",
       "</style>\n",
       "<table border=\"1\" class=\"dataframe\">\n",
       "  <thead>\n",
       "    <tr style=\"text-align: right;\">\n",
       "      <th></th>\n",
       "      <th>,Price,Age,KM,FuelType,HP,MetColor,Automatic,CC,Doors,Weight</th>\n",
       "    </tr>\n",
       "  </thead>\n",
       "  <tbody>\n",
       "    <tr>\n",
       "      <th>0</th>\n",
       "      <td>0,13500,23,46986,Diesel,90,1,0,2000,three,1165</td>\n",
       "    </tr>\n",
       "    <tr>\n",
       "      <th>1</th>\n",
       "      <td>1,13750,23,72937,Diesel,90,1,0,2000,3,1165</td>\n",
       "    </tr>\n",
       "    <tr>\n",
       "      <th>2</th>\n",
       "      <td>2,13950,24,41711,Diesel,90,,0,2000,3,1165</td>\n",
       "    </tr>\n",
       "    <tr>\n",
       "      <th>3</th>\n",
       "      <td>3,14950,26,48000,Diesel,90,0,0,2000,3,1165</td>\n",
       "    </tr>\n",
       "    <tr>\n",
       "      <th>4</th>\n",
       "      <td>4,13750,30,38500,Diesel,90,0,0,2000,3,1170</td>\n",
       "    </tr>\n",
       "    <tr>\n",
       "      <th>5</th>\n",
       "      <td>5,12950,32,61000,Diesel,90,0,0,2000,3,1170</td>\n",
       "    </tr>\n",
       "    <tr>\n",
       "      <th>6</th>\n",
       "      <td>6,16900,27,??,Diesel,????,,0,2000,3,1245</td>\n",
       "    </tr>\n",
       "    <tr>\n",
       "      <th>7</th>\n",
       "      <td>7,18600,30,75889,,90,1,0,2000,3,1245</td>\n",
       "    </tr>\n",
       "    <tr>\n",
       "      <th>8</th>\n",
       "      <td>8,21500,27,19700,Petrol,192,0,0,1800,3,1185</td>\n",
       "    </tr>\n",
       "    <tr>\n",
       "      <th>9</th>\n",
       "      <td>9,12950,23,71138,Diesel,????,,0,1900,3,1105</td>\n",
       "    </tr>\n",
       "  </tbody>\n",
       "</table>\n",
       "</div>"
      ],
      "text/plain": [
       "  ,Price,Age,KM,FuelType,HP,MetColor,Automatic,CC,Doors,Weight\n",
       "0     0,13500,23,46986,Diesel,90,1,0,2000,three,1165          \n",
       "1         1,13750,23,72937,Diesel,90,1,0,2000,3,1165          \n",
       "2          2,13950,24,41711,Diesel,90,,0,2000,3,1165          \n",
       "3         3,14950,26,48000,Diesel,90,0,0,2000,3,1165          \n",
       "4         4,13750,30,38500,Diesel,90,0,0,2000,3,1170          \n",
       "5         5,12950,32,61000,Diesel,90,0,0,2000,3,1170          \n",
       "6           6,16900,27,??,Diesel,????,,0,2000,3,1245          \n",
       "7               7,18600,30,75889,,90,1,0,2000,3,1245          \n",
       "8        8,21500,27,19700,Petrol,192,0,0,1800,3,1185          \n",
       "9        9,12950,23,71138,Diesel,????,,0,1900,3,1105          "
      ]
     },
     "execution_count": 12,
     "metadata": {},
     "output_type": "execute_result"
    }
   ],
   "source": [
    "data.head(10)"
   ]
  },
  {
   "cell_type": "code",
   "execution_count": 13,
   "metadata": {},
   "outputs": [
    {
     "data": {
      "text/html": [
       "<div>\n",
       "<style scoped>\n",
       "    .dataframe tbody tr th:only-of-type {\n",
       "        vertical-align: middle;\n",
       "    }\n",
       "\n",
       "    .dataframe tbody tr th {\n",
       "        vertical-align: top;\n",
       "    }\n",
       "\n",
       "    .dataframe thead th {\n",
       "        text-align: right;\n",
       "    }\n",
       "</style>\n",
       "<table border=\"1\" class=\"dataframe\">\n",
       "  <thead>\n",
       "    <tr style=\"text-align: right;\">\n",
       "      <th></th>\n",
       "      <th>,Price,Age,KM,FuelType,HP,MetColor,Automatic,CC,Doors,Weight</th>\n",
       "    </tr>\n",
       "  </thead>\n",
       "  <tbody>\n",
       "    <tr>\n",
       "      <th>1431</th>\n",
       "      <td>1431,7500,,20544,Petrol,86,1,0,1300,3,1025</td>\n",
       "    </tr>\n",
       "    <tr>\n",
       "      <th>1432</th>\n",
       "      <td>1432,10845,72,??,Petrol,86,0,0,1300,3,1015</td>\n",
       "    </tr>\n",
       "    <tr>\n",
       "      <th>1433</th>\n",
       "      <td>1433,8500,,17016,Petrol,86,0,0,1300,3,1015</td>\n",
       "    </tr>\n",
       "    <tr>\n",
       "      <th>1434</th>\n",
       "      <td>1434,7250,70,??,,86,1,0,1300,3,1015</td>\n",
       "    </tr>\n",
       "    <tr>\n",
       "      <th>1435</th>\n",
       "      <td>1435,6950,76,1,Petrol,110,0,0,1600,5,1114</td>\n",
       "    </tr>\n",
       "  </tbody>\n",
       "</table>\n",
       "</div>"
      ],
      "text/plain": [
       "     ,Price,Age,KM,FuelType,HP,MetColor,Automatic,CC,Doors,Weight\n",
       "1431         1431,7500,,20544,Petrol,86,1,0,1300,3,1025          \n",
       "1432         1432,10845,72,??,Petrol,86,0,0,1300,3,1015          \n",
       "1433         1433,8500,,17016,Petrol,86,0,0,1300,3,1015          \n",
       "1434                1434,7250,70,??,,86,1,0,1300,3,1015          \n",
       "1435          1435,6950,76,1,Petrol,110,0,0,1600,5,1114          "
      ]
     },
     "execution_count": 13,
     "metadata": {},
     "output_type": "execute_result"
    }
   ],
   "source": [
    " data.tail()"
   ]
  },
  {
   "cell_type": "code",
   "execution_count": 14,
   "metadata": {},
   "outputs": [
    {
     "data": {
      "text/html": [
       "<div>\n",
       "<style scoped>\n",
       "    .dataframe tbody tr th:only-of-type {\n",
       "        vertical-align: middle;\n",
       "    }\n",
       "\n",
       "    .dataframe tbody tr th {\n",
       "        vertical-align: top;\n",
       "    }\n",
       "\n",
       "    .dataframe thead th {\n",
       "        text-align: right;\n",
       "    }\n",
       "</style>\n",
       "<table border=\"1\" class=\"dataframe\">\n",
       "  <thead>\n",
       "    <tr style=\"text-align: right;\">\n",
       "      <th></th>\n",
       "      <th>,Price,Age,KM,FuelType,HP,MetColor,Automatic,CC,Doors,Weight</th>\n",
       "    </tr>\n",
       "  </thead>\n",
       "  <tbody>\n",
       "    <tr>\n",
       "      <th>1426</th>\n",
       "      <td>1426,9950,78,30964,Petrol,110,,1,1600,3,1080</td>\n",
       "    </tr>\n",
       "    <tr>\n",
       "      <th>1427</th>\n",
       "      <td>1427,8950,,29000,Petrol,86,1,1,1300,3,1045</td>\n",
       "    </tr>\n",
       "    <tr>\n",
       "      <th>1428</th>\n",
       "      <td>1428,8450,72,??,Petrol,86,,0,1300,3,1015</td>\n",
       "    </tr>\n",
       "    <tr>\n",
       "      <th>1429</th>\n",
       "      <td>1429,8950,78,24000,Petrol,86,1,1,1300,5,1065</td>\n",
       "    </tr>\n",
       "    <tr>\n",
       "      <th>1430</th>\n",
       "      <td>1430,8450,80,23000,Petrol,86,0,0,1300,3,1015</td>\n",
       "    </tr>\n",
       "    <tr>\n",
       "      <th>1431</th>\n",
       "      <td>1431,7500,,20544,Petrol,86,1,0,1300,3,1025</td>\n",
       "    </tr>\n",
       "    <tr>\n",
       "      <th>1432</th>\n",
       "      <td>1432,10845,72,??,Petrol,86,0,0,1300,3,1015</td>\n",
       "    </tr>\n",
       "    <tr>\n",
       "      <th>1433</th>\n",
       "      <td>1433,8500,,17016,Petrol,86,0,0,1300,3,1015</td>\n",
       "    </tr>\n",
       "    <tr>\n",
       "      <th>1434</th>\n",
       "      <td>1434,7250,70,??,,86,1,0,1300,3,1015</td>\n",
       "    </tr>\n",
       "    <tr>\n",
       "      <th>1435</th>\n",
       "      <td>1435,6950,76,1,Petrol,110,0,0,1600,5,1114</td>\n",
       "    </tr>\n",
       "  </tbody>\n",
       "</table>\n",
       "</div>"
      ],
      "text/plain": [
       "     ,Price,Age,KM,FuelType,HP,MetColor,Automatic,CC,Doors,Weight\n",
       "1426       1426,9950,78,30964,Petrol,110,,1,1600,3,1080          \n",
       "1427         1427,8950,,29000,Petrol,86,1,1,1300,3,1045          \n",
       "1428           1428,8450,72,??,Petrol,86,,0,1300,3,1015          \n",
       "1429       1429,8950,78,24000,Petrol,86,1,1,1300,5,1065          \n",
       "1430       1430,8450,80,23000,Petrol,86,0,0,1300,3,1015          \n",
       "1431         1431,7500,,20544,Petrol,86,1,0,1300,3,1025          \n",
       "1432         1432,10845,72,??,Petrol,86,0,0,1300,3,1015          \n",
       "1433         1433,8500,,17016,Petrol,86,0,0,1300,3,1015          \n",
       "1434                1434,7250,70,??,,86,1,0,1300,3,1015          \n",
       "1435          1435,6950,76,1,Petrol,110,0,0,1600,5,1114          "
      ]
     },
     "execution_count": 14,
     "metadata": {},
     "output_type": "execute_result"
    }
   ],
   "source": [
    " data.tail(10)"
   ]
  },
  {
   "cell_type": "code",
   "execution_count": 38,
   "metadata": {},
   "outputs": [
    {
     "data": {
      "text/plain": [
       ",Price,Age,KM,FuelType,HP,MetColor,Automatic,CC,Doors,Weight    0\n",
       "dtype: int64"
      ]
     },
     "execution_count": 38,
     "metadata": {},
     "output_type": "execute_result"
    }
   ],
   "source": [
    " data.isnull().sum()"
   ]
  },
  {
   "cell_type": "code",
   "execution_count": 39,
   "metadata": {},
   "outputs": [
    {
     "data": {
      "text/plain": [
       ",Price,Age,KM,FuelType,HP,MetColor,Automatic,CC,Doors,Weight    0\n",
       "dtype: int64"
      ]
     },
     "execution_count": 39,
     "metadata": {},
     "output_type": "execute_result"
    }
   ],
   "source": [
    "data.dropna(inplace=True)\n",
    "data.isnull().sum()\n"
   ]
  },
  {
   "cell_type": "code",
   "execution_count": 40,
   "metadata": {},
   "outputs": [
    {
     "data": {
      "text/plain": [
       "(1436, 1)"
      ]
     },
     "execution_count": 40,
     "metadata": {},
     "output_type": "execute_result"
    }
   ],
   "source": [
    " data.shape"
   ]
  },
  {
   "cell_type": "code",
   "execution_count": 41,
   "metadata": {},
   "outputs": [
    {
     "data": {
      "text/html": [
       "<div>\n",
       "<style scoped>\n",
       "    .dataframe tbody tr th:only-of-type {\n",
       "        vertical-align: middle;\n",
       "    }\n",
       "\n",
       "    .dataframe tbody tr th {\n",
       "        vertical-align: top;\n",
       "    }\n",
       "\n",
       "    .dataframe thead th {\n",
       "        text-align: right;\n",
       "    }\n",
       "</style>\n",
       "<table border=\"1\" class=\"dataframe\">\n",
       "  <thead>\n",
       "    <tr style=\"text-align: right;\">\n",
       "      <th></th>\n",
       "      <th>,Price,Age,KM,FuelType,HP,MetColor,Automatic,CC,Doors,Weight</th>\n",
       "    </tr>\n",
       "  </thead>\n",
       "  <tbody>\n",
       "    <tr>\n",
       "      <th>0</th>\n",
       "      <td>0,13500,23,46986,Diesel,90,1,0,2000,three,1165</td>\n",
       "    </tr>\n",
       "    <tr>\n",
       "      <th>1</th>\n",
       "      <td>1,13750,23,72937,Diesel,90,1,0,2000,3,1165</td>\n",
       "    </tr>\n",
       "    <tr>\n",
       "      <th>2</th>\n",
       "      <td>2,13950,24,41711,Diesel,90,,0,2000,3,1165</td>\n",
       "    </tr>\n",
       "    <tr>\n",
       "      <th>3</th>\n",
       "      <td>3,14950,26,48000,Diesel,90,0,0,2000,3,1165</td>\n",
       "    </tr>\n",
       "    <tr>\n",
       "      <th>4</th>\n",
       "      <td>4,13750,30,38500,Diesel,90,0,0,2000,3,1170</td>\n",
       "    </tr>\n",
       "    <tr>\n",
       "      <th>5</th>\n",
       "      <td>5,12950,32,61000,Diesel,90,0,0,2000,3,1170</td>\n",
       "    </tr>\n",
       "    <tr>\n",
       "      <th>6</th>\n",
       "      <td>6,16900,27,??,Diesel,????,,0,2000,3,1245</td>\n",
       "    </tr>\n",
       "    <tr>\n",
       "      <th>7</th>\n",
       "      <td>7,18600,30,75889,,90,1,0,2000,3,1245</td>\n",
       "    </tr>\n",
       "    <tr>\n",
       "      <th>8</th>\n",
       "      <td>8,21500,27,19700,Petrol,192,0,0,1800,3,1185</td>\n",
       "    </tr>\n",
       "    <tr>\n",
       "      <th>9</th>\n",
       "      <td>9,12950,23,71138,Diesel,????,,0,1900,3,1105</td>\n",
       "    </tr>\n",
       "  </tbody>\n",
       "</table>\n",
       "</div>"
      ],
      "text/plain": [
       "  ,Price,Age,KM,FuelType,HP,MetColor,Automatic,CC,Doors,Weight\n",
       "0     0,13500,23,46986,Diesel,90,1,0,2000,three,1165          \n",
       "1         1,13750,23,72937,Diesel,90,1,0,2000,3,1165          \n",
       "2          2,13950,24,41711,Diesel,90,,0,2000,3,1165          \n",
       "3         3,14950,26,48000,Diesel,90,0,0,2000,3,1165          \n",
       "4         4,13750,30,38500,Diesel,90,0,0,2000,3,1170          \n",
       "5         5,12950,32,61000,Diesel,90,0,0,2000,3,1170          \n",
       "6           6,16900,27,??,Diesel,????,,0,2000,3,1245          \n",
       "7               7,18600,30,75889,,90,1,0,2000,3,1245          \n",
       "8        8,21500,27,19700,Petrol,192,0,0,1800,3,1185          \n",
       "9        9,12950,23,71138,Diesel,????,,0,1900,3,1105          "
      ]
     },
     "execution_count": 41,
     "metadata": {},
     "output_type": "execute_result"
    }
   ],
   "source": [
    " data.head(10)"
   ]
  },
  {
   "cell_type": "code",
   "execution_count": null,
   "metadata": {},
   "outputs": [],
   "source": [
    "data[['Price',\"Age\"]].head(10)"
   ]
  },
  {
   "cell_type": "code",
   "execution_count": null,
   "metadata": {},
   "outputs": [],
   "source": [
    " data['MetColor'].mean()"
   ]
  },
  {
   "cell_type": "code",
   "execution_count": null,
   "metadata": {},
   "outputs": [],
   "source": [
    "data['MetColor'].head()"
   ]
  },
  {
   "cell_type": "code",
   "execution_count": null,
   "metadata": {},
   "outputs": [],
   "source": [
    " import numpy as np\n",
    "data['MetColor'].replace(np.NaN,data['MetColor'].mean()).head()"
   ]
  },
  {
   "cell_type": "code",
   "execution_count": 36,
   "metadata": {},
   "outputs": [
    {
     "data": {
      "text/html": [
       "<div>\n",
       "<style scoped>\n",
       "    .dataframe tbody tr th:only-of-type {\n",
       "        vertical-align: middle;\n",
       "    }\n",
       "\n",
       "    .dataframe tbody tr th {\n",
       "        vertical-align: top;\n",
       "    }\n",
       "\n",
       "    .dataframe thead th {\n",
       "        text-align: right;\n",
       "    }\n",
       "</style>\n",
       "<table border=\"1\" class=\"dataframe\">\n",
       "  <thead>\n",
       "    <tr style=\"text-align: right;\">\n",
       "      <th></th>\n",
       "      <th>,Price,Age,KM,FuelType,HP,MetColor,Automatic,CC,Doors,Weight</th>\n",
       "    </tr>\n",
       "  </thead>\n",
       "  <tbody>\n",
       "    <tr>\n",
       "      <th>0</th>\n",
       "      <td>0,13500,23,46986,Diesel,90,1,0,2000,three,1165</td>\n",
       "    </tr>\n",
       "    <tr>\n",
       "      <th>1</th>\n",
       "      <td>1,13750,23,72937,Diesel,90,1,0,2000,3,1165</td>\n",
       "    </tr>\n",
       "    <tr>\n",
       "      <th>2</th>\n",
       "      <td>2,13950,24,41711,Diesel,90,,0,2000,3,1165</td>\n",
       "    </tr>\n",
       "    <tr>\n",
       "      <th>3</th>\n",
       "      <td>3,14950,26,48000,Diesel,90,0,0,2000,3,1165</td>\n",
       "    </tr>\n",
       "    <tr>\n",
       "      <th>4</th>\n",
       "      <td>4,13750,30,38500,Diesel,90,0,0,2000,3,1170</td>\n",
       "    </tr>\n",
       "    <tr>\n",
       "      <th>5</th>\n",
       "      <td>5,12950,32,61000,Diesel,90,0,0,2000,3,1170</td>\n",
       "    </tr>\n",
       "    <tr>\n",
       "      <th>6</th>\n",
       "      <td>6,16900,27,??,Diesel,????,,0,2000,3,1245</td>\n",
       "    </tr>\n",
       "    <tr>\n",
       "      <th>7</th>\n",
       "      <td>7,18600,30,75889,,90,1,0,2000,3,1245</td>\n",
       "    </tr>\n",
       "    <tr>\n",
       "      <th>8</th>\n",
       "      <td>8,21500,27,19700,Petrol,192,0,0,1800,3,1185</td>\n",
       "    </tr>\n",
       "    <tr>\n",
       "      <th>9</th>\n",
       "      <td>9,12950,23,71138,Diesel,????,,0,1900,3,1105</td>\n",
       "    </tr>\n",
       "  </tbody>\n",
       "</table>\n",
       "</div>"
      ],
      "text/plain": [
       "  ,Price,Age,KM,FuelType,HP,MetColor,Automatic,CC,Doors,Weight\n",
       "0     0,13500,23,46986,Diesel,90,1,0,2000,three,1165          \n",
       "1         1,13750,23,72937,Diesel,90,1,0,2000,3,1165          \n",
       "2          2,13950,24,41711,Diesel,90,,0,2000,3,1165          \n",
       "3         3,14950,26,48000,Diesel,90,0,0,2000,3,1165          \n",
       "4         4,13750,30,38500,Diesel,90,0,0,2000,3,1170          \n",
       "5         5,12950,32,61000,Diesel,90,0,0,2000,3,1170          \n",
       "6           6,16900,27,??,Diesel,????,,0,2000,3,1245          \n",
       "7               7,18600,30,75889,,90,1,0,2000,3,1245          \n",
       "8        8,21500,27,19700,Petrol,192,0,0,1800,3,1185          \n",
       "9        9,12950,23,71138,Diesel,????,,0,1900,3,1105          "
      ]
     },
     "execution_count": 36,
     "metadata": {},
     "output_type": "execute_result"
    }
   ],
   "source": [
    "data.head(10)"
   ]
  },
  {
   "cell_type": "code",
   "execution_count": null,
   "metadata": {},
   "outputs": [],
   "source": [
    "data['CC'].mean()"
   ]
  },
  {
   "cell_type": "code",
   "execution_count": null,
   "metadata": {},
   "outputs": [],
   "source": [
    " data['CC'].head()"
   ]
  },
  {
   "cell_type": "code",
   "execution_count": null,
   "metadata": {},
   "outputs": [],
   "source": [
    " data[['Age',\"KM\"]].head(20)"
   ]
  }
 ],
 "metadata": {
  "kernelspec": {
   "display_name": "Python 3",
   "language": "python",
   "name": "python3"
  },
  "language_info": {
   "codemirror_mode": {
    "name": "ipython",
    "version": 3
   },
   "file_extension": ".py",
   "mimetype": "text/x-python",
   "name": "python",
   "nbconvert_exporter": "python",
   "pygments_lexer": "ipython3",
   "version": "3.8.1"
  }
 },
 "nbformat": 4,
 "nbformat_minor": 4
}
