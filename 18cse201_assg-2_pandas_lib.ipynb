{
 "cells": [
  {
   "cell_type": "code",
   "execution_count": 15,
   "metadata": {},
   "outputs": [
    {
     "name": "stdout",
     "output_type": "stream",
     "text": [
      "0     1\n",
      "1     4\n",
      "2     8\n",
      "3     6\n",
      "4     5\n",
      "5     6\n",
      "6    10\n",
      "dtype: int64\n",
      "a     1\n",
      "b     4\n",
      "c     8\n",
      "d     6\n",
      "e     5\n",
      "f     6\n",
      "g    10\n",
      "dtype: int64\n"
     ]
    }
   ],
   "source": [
    "import pandas as pd\n",
    "#s = pd.Series(Data, index = Index) \n",
    "data1 =[1,4,8,6,5,6,10]   \n",
    "  \n",
    "ans1 = pd.Series(Data1)     \n",
    "print(ans1)\n",
    "\n",
    " \n",
    "data2 =['a', 'b', 'c', 'd', 'e', 'f', 'g']  \n",
    "  \n",
    "\n",
    "ans2= pd.Series(data1, data2)\n",
    "print(ans2)"
   ]
  },
  {
   "cell_type": "code",
   "execution_count": 14,
   "metadata": {},
   "outputs": [
    {
     "name": "stdout",
     "output_type": "stream",
     "text": [
      "a    1\n",
      "b    2\n",
      "c    3\n",
      "d    4\n",
      "e    5\n",
      "dtype: int64\n"
     ]
    }
   ],
   "source": [
    "import pandas as pd\n",
    "\n",
    "dictionary ={'a':1, 'b':2, 'c':3, 'd':4, 'e':5}  \n",
    "  \n",
    "# Creating series of Dictionary type \n",
    "dict1= pd.Series(dictionary)  \n",
    "print(dict1)"
   ]
  },
  {
   "cell_type": "code",
   "execution_count": 16,
   "metadata": {},
   "outputs": [
    {
     "name": "stdout",
     "output_type": "stream",
     "text": [
      "1    [2, 3, 4]\n",
      "2    [5, 6, 7]\n",
      "dtype: object\n"
     ]
    }
   ],
   "source": [
    "import pandas as pd\n",
    "\n",
    "data_set=[[2, 3, 4], [5, 6, 7]]   \n",
    "indx=[1,2]\n",
    "# Creating series of 2darray \n",
    "ans= pd.Series(data_set,indx)\n",
    "\n",
    "print(ans)"
   ]
  },
  {
   "cell_type": "code",
   "execution_count": 24,
   "metadata": {},
   "outputs": [
    {
     "name": "stdout",
     "output_type": "stream",
     "text": [
      "   first  second\n",
      "a    1.0       5\n",
      "b    2.0       6\n",
      "c    3.0       7\n",
      "d    4.0       8\n",
      "e    NaN       9\n"
     ]
    }
   ],
   "source": [
    "import pandas as pd \n",
    "\n",
    "data1 ={'a':1, 'b':2, 'c':3, 'd':4}    \n",
    "  \n",
    "    \n",
    "data2 ={'a':5, 'b':6, 'c':7, 'd':8, 'e':9}  \n",
    "  \n",
    "\n",
    "grp = {'first':data1, 'second':data2}  \n",
    "  \n",
    "# DataFrame  \n",
    "ans = pd.DataFrame(grp)\n",
    "\n",
    "print(df)"
   ]
  },
  {
   "cell_type": "code",
   "execution_count": 29,
   "metadata": {},
   "outputs": [
    {
     "name": "stdout",
     "output_type": "stream",
     "text": [
      "   a  b   c\n",
      "1  4  7  10\n",
      "2  5  8  11\n",
      "3  6  9  12\n"
     ]
    }
   ],
   "source": [
    "import pandas as pd\n",
    "ans = pd.DataFrame({\"a\" : [4 ,5, 6],\"b\" : [7, 8, 9],\"c\" : [10, 11, 12]},index = [1, 2, 3])\n",
    "print(ans)"
   ]
  },
  {
   "cell_type": "code",
   "execution_count": 28,
   "metadata": {},
   "outputs": [
    {
     "name": "stdout",
     "output_type": "stream",
     "text": [
      "   first second\n",
      "0      1      a\n",
      "1      3      b\n",
      "2      4      c\n",
      "3      5      d\n",
      "4      6      e\n",
      "5      2      f\n",
      "6      9      g\n"
     ]
    }
   ],
   "source": [
    "import pandas as pd \n",
    "  \n",
    "\n",
    "series1 = pd.Series([1, 3, 4, 5, 6, 2, 9])    \n",
    "  \n",
    "\n",
    "\n",
    "series2 = pd.Series(['a', 'b', 'c', 'd', 'e','f','g'])      \n",
    "  \n",
    "# Define Data \n",
    "grp ={'first':series1, 'second':series2, }  \n",
    "  \n",
    "# Create DataFrame \n",
    "ans = pd.DataFrame(grp)   \n",
    "\n",
    "print(ans)"
   ]
  },
  {
   "cell_type": "code",
   "execution_count": 32,
   "metadata": {},
   "outputs": [
    {
     "name": "stdout",
     "output_type": "stream",
     "text": [
      "       first     second\n",
      "0  [2, 3, 4]  [2, 4, 8]\n",
      "1  [5, 6, 7]  [1, 3, 9]\n"
     ]
    }
   ],
   "source": [
    "import pandas as pd  \n",
    "  \n",
    "\n",
    "arr1 =[[2, 3, 4], [5, 6, 7]]  \n",
    "  \n",
    "# Define 2d array 2 \n",
    "arr2 =[[2, 4, 8], [1, 3, 9]]  \n",
    "  \n",
    "# Define Data \n",
    "ans ={'first': arr1, 'second': arr2}   \n",
    "  \n",
    "# Create DataFrame \n",
    "final_ans = pd.DataFrame(ans)  \n",
    "\n",
    "print(final_ans)"
   ]
  },
  {
   "cell_type": "code",
   "execution_count": 34,
   "metadata": {},
   "outputs": [
    {
     "name": "stdout",
     "output_type": "stream",
     "text": [
      "    name Age\n",
      "0   John  25\n",
      "1  Smith  30\n",
      "2   Paul  50\n",
      "3   Adam  26\n",
      "4  Smith  11\n"
     ]
    }
   ],
   "source": [
    "import numpy as np\n",
    "ans1 = pd.DataFrame({'name': ['John', 'Smith','Paul'],\n",
    "                     'Age': ['25', '30', '50']},\n",
    "                    index=[0, 1, 2])\n",
    "ans2 = pd.DataFrame({'name': ['Adam', 'Smith' ],\n",
    "                     'Age': ['26', '11']},\n",
    "                    index=[3, 4])  \n",
    "\n",
    "\n",
    "final_ans = pd.concat([ans1,ans2]) \n",
    "print(final_ans)"
   ]
  },
  {
   "cell_type": "code",
   "execution_count": null,
   "metadata": {},
   "outputs": [],
   "source": [
    "import matplotlib as plot\n",
    "import pandas as pd\n",
    "ans= pd.DataFrame({'X':[78,85,96,80,86], 'Y':[84,94,89,83,86],'Z':[86,97,96,72,83]});\n",
    "print(ans)\n",
    "ans.plot.hist() "
   ]
  },
  {
   "cell_type": "code",
   "execution_count": null,
   "metadata": {},
   "outputs": [],
   "source": [
    "import matplotlib.pyplot as plt\n",
    "from pylab import randn\n",
    "X = randn(200)\n",
    "Y = randn(200)\n",
    "plt.scatter(X,Y, color='r')\n",
    "plt.xlabel(\"X\")\n",
    "plt.ylabel(\"Y\")\n",
    "plt.show()"
   ]
  }
 ],
 "metadata": {
  "kernelspec": {
   "display_name": "Python 3",
   "language": "python",
   "name": "python3"
  },
  "language_info": {
   "codemirror_mode": {
    "name": "ipython",
    "version": 3
   },
   "file_extension": ".py",
   "mimetype": "text/x-python",
   "name": "python",
   "nbconvert_exporter": "python",
   "pygments_lexer": "ipython3",
   "version": "3.8.1"
  }
 },
 "nbformat": 4,
 "nbformat_minor": 4
}
